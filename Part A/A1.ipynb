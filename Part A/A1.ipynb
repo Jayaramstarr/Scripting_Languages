{
 "cells": [
  {
   "cell_type": "code",
   "execution_count": null,
   "metadata": {},
   "outputs": [],
   "source": [
    "a=[]\n",
    "print('\\nEnter number of elements in the list\\n')\n",
    "n = int(input())\n",
    "for i in range(n):\n",
    "    print(f'\\nEnter element {i+1} of the list')\n",
    "    a.append(int(input()))\n",
    "print(f'\\nList is: \\t{a}')"
   ]
  },
  {
   "cell_type": "code",
   "execution_count": null,
   "metadata": {},
   "outputs": [],
   "source": [
    "print(f'\\nMinimum and maximum elements in the list is {min(a)} and {max(a)}')"
   ]
  },
  {
   "cell_type": "code",
   "execution_count": null,
   "metadata": {},
   "outputs": [],
   "source": [
    "print('\\nEnter the element to be inserted into the list\\t')\n",
    "ele = int(input())\n",
    "print('\\nEnter the position of the element to be inserted into the list\\t')\n",
    "pos = int(input())\n",
    "a.insert(pos-1,ele)\n",
    "print(f'\\nList is: \\t{a}')"
   ]
  },
  {
   "cell_type": "code",
   "execution_count": null,
   "metadata": {},
   "outputs": [],
   "source": [
    "print('\\nEnter the element to be deleted from the list\\t')\n",
    "ele = int(input())\n",
    "a.remove(ele)\n",
    "print(f'\\nList is: \\t{a}')"
   ]
  },
  {
   "cell_type": "code",
   "execution_count": null,
   "metadata": {},
   "outputs": [],
   "source": [
    "print('\\nEnter the element to be searched in the list\\t')\n",
    "ele = int(input())\n",
    "if ele in a:\n",
    "    print(f'Element found at position {a.index(ele)+1}')\n",
    "else:\n",
    "    print('Element not found')"
   ]
  },
  {
   "cell_type": "code",
   "execution_count": null,
   "metadata": {},
   "outputs": [],
   "source": []
  }
 ],
 "metadata": {
  "kernelspec": {
   "display_name": "Python 3",
   "language": "python",
   "name": "python3"
  },
  "language_info": {
   "codemirror_mode": {
    "name": "ipython",
    "version": 3
   },
   "file_extension": ".py",
   "mimetype": "text/x-python",
   "name": "python",
   "nbconvert_exporter": "python",
   "pygments_lexer": "ipython3",
   "version": "3.7.6"
  }
 },
 "nbformat": 4,
 "nbformat_minor": 4
}
