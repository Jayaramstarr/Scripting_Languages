{
 "cells": [
  {
   "cell_type": "code",
   "execution_count": 4,
   "metadata": {},
   "outputs": [
    {
     "name": "stdout",
     "output_type": "stream",
     "text": [
      "\n",
      "Sum of old list is 21\n",
      "\n",
      "Sum of new list is 63\n"
     ]
    }
   ],
   "source": [
    "li = [1,2,3,4,5,6]\n",
    "nli = [ x*3 for x in li ]\n",
    "s = reduce( (lambda x,y: x+y), li )\n",
    "ns = reduce( (lambda x,y: x+y), nli )\n",
    "print(f'\\nSum of old list is {s}')\n",
    "print(f'\\nSum of new list is {ns}')"
   ]
  }
 ],
 "metadata": {
  "kernelspec": {
   "display_name": "Python 3",
   "language": "python",
   "name": "python3"
  },
  "language_info": {
   "codemirror_mode": {
    "name": "ipython",
    "version": 3
   },
   "file_extension": ".py",
   "mimetype": "text/x-python",
   "name": "python",
   "nbconvert_exporter": "python",
   "pygments_lexer": "ipython3",
   "version": "3.7.6"
  }
 },
 "nbformat": 4,
 "nbformat_minor": 4
}
