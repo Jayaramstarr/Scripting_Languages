{
 "cells": [
  {
   "cell_type": "code",
   "execution_count": null,
   "metadata": {},
   "outputs": [],
   "source": [
    "class Student:\n",
    "    \n",
    "    name=''\n",
    "    age=0\n",
    "    marks=[]\n",
    "    \n",
    "    def __init__(self,n,a,m):\n",
    "        self.name=n\n",
    "        self.age=a\n",
    "        self.marks=m\n",
    "    \n",
    "    def display(self):\n",
    "        print('\\nStudent details')\n",
    "        print(f'\\n\\tName: {self.name}\\n\\tAge: {self.age}\\n\\tMarks: {self.marks}')\n",
    "        \n",
    "    def accept(self):\n",
    "        self.name=input('\\nEnter name of the student:\\n\\t')\n",
    "        self.age=input('\\nEnter age of the student:\\n\\t')\n",
    "        m=input('\\nEnter marks of the student:\\n\\t')\n",
    "        self.marks=[ int(x) for x in m.split(' ')]"
   ]
  },
  {
   "cell_type": "code",
   "execution_count": null,
   "metadata": {},
   "outputs": [],
   "source": [
    "s1 = Student('k','24',[90,88,96])"
   ]
  },
  {
   "cell_type": "code",
   "execution_count": null,
   "metadata": {},
   "outputs": [],
   "source": [
    "s1.display()"
   ]
  },
  {
   "cell_type": "code",
   "execution_count": null,
   "metadata": {},
   "outputs": [],
   "source": [
    "s1.accept()\n",
    "s1.display()"
   ]
  }
 ],
 "metadata": {
  "kernelspec": {
   "display_name": "Python 3",
   "language": "python",
   "name": "python3"
  },
  "language_info": {
   "codemirror_mode": {
    "name": "ipython",
    "version": 3
   },
   "file_extension": ".py",
   "mimetype": "text/x-python",
   "name": "python",
   "nbconvert_exporter": "python",
   "pygments_lexer": "ipython3",
   "version": "3.7.6"
  }
 },
 "nbformat": 4,
 "nbformat_minor": 4
}
