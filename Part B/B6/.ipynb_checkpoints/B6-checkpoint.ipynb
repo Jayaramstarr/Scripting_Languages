{
 "cells": [
  {
   "cell_type": "code",
   "execution_count": 5,
   "metadata": {},
   "outputs": [
    {
     "name": "stdout",
     "output_type": "stream",
     "text": [
      "<-----Data Information----->\n",
      "Head of Dataset\n",
      "   User_ID Product_ID Gender   Age  Occupation City_Category  \\\n",
      "0  1000001  P00069042      F  0-17          10             A   \n",
      "1  1000001  P00248942      F  0-17          10             A   \n",
      "2  1000001  P00087842      F  0-17          10             A   \n",
      "3  1000001  P00085442      F  0-17          10           NaN   \n",
      "4  1000002  P00285442      M   55+          16             C   \n",
      "\n",
      "  Stay_In_Current_City_Years  Marital_Status  Baseball_Caps  Wine_Tumblers  \\\n",
      "0                          2               0              3            NaN   \n",
      "1                          2               0              1            6.0   \n",
      "2                          2               0             12            NaN   \n",
      "3                          2               0             12           14.0   \n",
      "4                         4+               0              8            NaN   \n",
      "\n",
      "   Pet_Raincoats  Purchase  \n",
      "0            NaN      8370  \n",
      "1           14.0     15200  \n",
      "2            NaN      1422  \n",
      "3            5.0      1057  \n",
      "4            NaN      7969  \n",
      "Head of Dataset\n",
      "            User_ID  Occupation  Marital_Status  Baseball_Caps  Wine_Tumblers  \\\n",
      "count  2.100000e+01   21.000000       21.000000      21.000000      15.000000   \n",
      "mean   1.000004e+06   12.047619        0.523810       4.428571       9.133333   \n",
      "std    2.226464e+00    5.444963        0.511766       3.668398       5.111146   \n",
      "min    1.000001e+06    1.000000        0.000000       1.000000       2.000000   \n",
      "25%    1.000003e+06    9.000000        0.000000       1.000000       5.000000   \n",
      "50%    1.000005e+06   10.000000        1.000000       4.000000       8.000000   \n",
      "75%    1.000006e+06   16.000000        1.000000       8.000000      14.000000   \n",
      "max    1.000008e+06   20.000000        1.000000      12.000000      16.000000   \n",
      "\n",
      "       Pet_Raincoats      Purchase  \n",
      "count      12.000000     21.000000  \n",
      "mean       11.416667   9912.809524  \n",
      "std         5.017394   5785.918774  \n",
      "min         4.000000   1057.000000  \n",
      "25%         5.000000   5378.000000  \n",
      "50%        14.000000   8584.000000  \n",
      "75%        14.250000  15227.000000  \n",
      "max        17.000000  19614.000000  \n",
      "<class 'pandas.core.frame.DataFrame'>\n",
      "RangeIndex: 21 entries, 0 to 20\n",
      "Data columns (total 12 columns):\n",
      " #   Column                      Non-Null Count  Dtype  \n",
      "---  ------                      --------------  -----  \n",
      " 0   User_ID                     21 non-null     int64  \n",
      " 1   Product_ID                  21 non-null     object \n",
      " 2   Gender                      21 non-null     object \n",
      " 3   Age                         21 non-null     object \n",
      " 4   Occupation                  21 non-null     int64  \n",
      " 5   City_Category               17 non-null     object \n",
      " 6   Stay_In_Current_City_Years  21 non-null     object \n",
      " 7   Marital_Status              21 non-null     int64  \n",
      " 8   Baseball_Caps               21 non-null     int64  \n",
      " 9   Wine_Tumblers               15 non-null     float64\n",
      " 10  Pet_Raincoats               12 non-null     float64\n",
      " 11  Purchase                    21 non-null     int64  \n",
      "dtypes: float64(2), int64(5), object(5)\n",
      "memory usage: 2.1+ KB\n",
      "None\n"
     ]
    }
   ],
   "source": [
    "\"\"\"a)Load the ‘Black Friday’ dataset into one of the data structures (NumPy or Pandas).\\n\",\n",
    "\"b)Display header rows and description of the loaded dataset.\"\"\"\n",
    "\n",
    "import pandas as pd\n",
    "import numpy as np\n",
    "df = pd.read_csv(\"blackfri.csv\")\n",
    "print(\"<-----Data Information----->\")\n",
    "print(\"Head of Dataset\")\n",
    "print(df.head(5))\n",
    "print(\"Head of Dataset\")\n",
    "print(df.describe())\n",
    "print(df.info())"
   ]
  },
  {
   "cell_type": "code",
   "execution_count": 6,
   "metadata": {},
   "outputs": [
    {
     "name": "stdout",
     "output_type": "stream",
     "text": [
      "   User_ID Product_ID Gender   Age  Occupation City_Category  \\\n",
      "0  1000001  P00069042      F  0-17          10             A   \n",
      "1  1000001  P00248942      F  0-17          10             A   \n",
      "2  1000001  P00087842      F  0-17          10             A   \n",
      "3  1000001  P00085442      F  0-17          10           NaN   \n",
      "4  1000002  P00285442      M   55+          16             C   \n",
      "\n",
      "  Stay_In_Current_City_Years  Marital_Status  Baseball_Caps  Wine_Tumblers  \\\n",
      "0                          2               0              3            NaN   \n",
      "1                          2               0              1            6.0   \n",
      "2                          2               0             12            NaN   \n",
      "3                          2               0             12           14.0   \n",
      "4                         4+               0              8            NaN   \n",
      "\n",
      "   Pet_Raincoats  Purchase  \n",
      "0            NaN      8370  \n",
      "1           14.0     15200  \n",
      "2            NaN      1422  \n",
      "3            5.0      1057  \n",
      "4            NaN      7969  \n"
     ]
    }
   ],
   "source": [
    "\"\"\"c) Remove unnecessary features (E.g. drop unwanted columns) from the dataset such as\n",
    "‘User_ID’, ‘Product_ID ‘ ‘Stay_In_Current_City_Years’\"\"\"  \n",
    "df.drop=df.drop(['User_ID','Product_ID','Stay_In_Current_City_Years'], axis=1)\n",
    "print(df.head(5))"
   ]
  },
  {
   "cell_type": "code",
   "execution_count": 7,
   "metadata": {},
   "outputs": [
    {
     "name": "stdout",
     "output_type": "stream",
     "text": [
      "Filling empty values\n",
      "   User_ID Product_ID Gender   Age  Occupation City_Category  \\\n",
      "0  1000001  P00069042      F  0-17          10             A   \n",
      "1  1000001  P00248942      F  0-17          10             A   \n",
      "2  1000001  P00087842      F  0-17          10             A   \n",
      "3  1000001  P00085442      F  0-17          10             A   \n",
      "4  1000002  P00285442      M   55+          16             C   \n",
      "\n",
      "  Stay_In_Current_City_Years  Marital_Status  Baseball_Caps  Wine_Tumblers  \\\n",
      "0                          2               0              3            NaN   \n",
      "1                          2               0              1            6.0   \n",
      "2                          2               0             12            NaN   \n",
      "3                          2               0             12           14.0   \n",
      "4                         4+               0              8            NaN   \n",
      "\n",
      "   Pet_Raincoats  Purchase  \n",
      "0            NaN      8370  \n",
      "1           14.0     15200  \n",
      "2            NaN      1422  \n",
      "3            5.0      1057  \n",
      "4            NaN      7969  \n"
     ]
    }
   ],
   "source": [
    "\"\"\"d) Manipulate data by replacing empty column values in ‘City_Category’ with a default value\n",
    "for the city. \"\"\"\n",
    "print(\"Filling empty values\")\n",
    "df['City_Category'] = df['City_Category'].fillna(\"A\")\n",
    "print(df.head(5))                             \n"
   ]
  },
  {
   "cell_type": "code",
   "execution_count": 8,
   "metadata": {},
   "outputs": [
    {
     "name": "stdout",
     "output_type": "stream",
     "text": [
      "Mapping values/attributes in City_Category to types\n",
      "   User_ID Product_ID Gender   Age  Occupation City_Category  \\\n",
      "0  1000001  P00069042      F  0-17          10  Metro cities   \n",
      "1  1000001  P00248942      F  0-17          10  Metro cities   \n",
      "2  1000001  P00087842      F  0-17          10  Metro cities   \n",
      "3  1000001  P00085442      F  0-17          10  Metro cities   \n",
      "4  1000002  P00285442      M   55+          16      Villages   \n",
      "\n",
      "  Stay_In_Current_City_Years  Marital_Status  Baseball_Caps  Wine_Tumblers  \\\n",
      "0                          2               0              3            NaN   \n",
      "1                          2               0              1            6.0   \n",
      "2                          2               0             12            NaN   \n",
      "3                          2               0             12           14.0   \n",
      "4                         4+               0              8            NaN   \n",
      "\n",
      "   Pet_Raincoats  Purchase  \n",
      "0            NaN      8370  \n",
      "1           14.0     15200  \n",
      "2            NaN      1422  \n",
      "3            5.0      1057  \n",
      "4            NaN      7969  \n"
     ]
    }
   ],
   "source": [
    "\"\"\"e) Convert the attribute ‘City_Category’ to have \n",
    "‘A’ to be ‘Metro Cities’, \n",
    "‘B’ to be ‘Small Towns’, \n",
    "‘C’ to be ‘Villages’.\n",
    "\"\"\"\n",
    "print(\"Mapping values/attributes in City_Category to types\")\n",
    "df['City_Category'] = df['City_Category'].map({'A':'Metro cities','B':'Small Towns','C':'Villages'})\n",
    "print(df.head(5))"
   ]
  },
  {
   "cell_type": "code",
   "execution_count": 9,
   "metadata": {},
   "outputs": [
    {
     "name": "stdout",
     "output_type": "stream",
     "text": [
      "Renaming the column names\n",
      "   User_ID Product_ID Gender   Age  Occupation City_Category  \\\n",
      "0  1000001  P00069042      F  0-17          10  Metro cities   \n",
      "1  1000001  P00248942      F  0-17          10  Metro cities   \n",
      "2  1000001  P00087842      F  0-17          10  Metro cities   \n",
      "3  1000001  P00085442      F  0-17          10  Metro cities   \n",
      "4  1000002  P00285442      M   55+          16      Villages   \n",
      "\n",
      "  Stay_In_Current_City_Years  Marital_Status  Baseball_Caps  Wine_Tumblers  \\\n",
      "0                          2               0              3            NaN   \n",
      "1                          2               0              1            6.0   \n",
      "2                          2               0             12            NaN   \n",
      "3                          2               0             12           14.0   \n",
      "4                         4+               0              8            NaN   \n",
      "\n",
      "   Pet_Raincoats  Purchase  \n",
      "0            NaN      8370  \n",
      "1           14.0     15200  \n",
      "2            NaN      1422  \n",
      "3            5.0      1057  \n",
      "4            NaN      7969  \n"
     ]
    }
   ],
   "source": [
    "\"\"\"f) Rename the attribute ‘Product_Category_1’ to have ‘Baseball Caps’,\n",
    "‘Product_Category_2’ to have ‘Wine Tumblers’ and \n",
    "‘Product_Category_3’ to have ‘Pet Raincoats’\\n\",\"\"\"\n",
    "print(\"Renaming the column names\")\n",
    "df.rename(columns={'Product_Category_1':'Baseball_Caps','Product_Category_2':'Wine_Tumblers','Product_Category_3':'Pet_Raincoats'},inplace=True)\n",
    "print(df.head(5))"
   ]
  },
  {
   "cell_type": "code",
   "execution_count": 10,
   "metadata": {},
   "outputs": [
    {
     "name": "stdout",
     "output_type": "stream",
     "text": [
      "Mapping values/attributes in Marital Status to types\n",
      "   User_ID Product_ID Gender   Age  Occupation City_Category  \\\n",
      "0  1000001  P00069042      F  0-17          10  Metro cities   \n",
      "1  1000001  P00248942      F  0-17          10  Metro cities   \n",
      "2  1000001  P00087842      F  0-17          10  Metro cities   \n",
      "3  1000001  P00085442      F  0-17          10  Metro cities   \n",
      "4  1000002  P00285442      M   55+          16      Villages   \n",
      "\n",
      "  Stay_In_Current_City_Years Marital_Status  Baseball_Caps  Wine_Tumblers  \\\n",
      "0                          2     Un-Married              3            NaN   \n",
      "1                          2     Un-Married              1            6.0   \n",
      "2                          2     Un-Married             12            NaN   \n",
      "3                          2     Un-Married             12           14.0   \n",
      "4                         4+     Un-Married              8            NaN   \n",
      "\n",
      "   Pet_Raincoats  Purchase  \n",
      "0            NaN      8370  \n",
      "1           14.0     15200  \n",
      "2            NaN      1422  \n",
      "3            5.0      1057  \n",
      "4            NaN      7969  \n"
     ]
    }
   ],
   "source": [
    "\"\"\"g) Convert the attribute ‘Marital_Status’ to have ‘1:Married’ and ‘0:Un-Married’\"\"\"\n",
    "print(\"Mapping values/attributes in Marital Status to types\")\n",
    "df['Marital_Status'] = df['Marital_Status'].map({1:'Married',0:'Un-Married'})\n",
    "print(df.head(5))"
   ]
  },
  {
   "cell_type": "code",
   "execution_count": 11,
   "metadata": {},
   "outputs": [
    {
     "name": "stdout",
     "output_type": "stream",
     "text": [
      "<-------Data Visualisation------->\n",
      "Baseball_Caps  1   2   3   4   5   8   12\n",
      "Gender                                   \n",
      "F               1   1   1   1   2   0   2\n",
      "M               7   0   0   0   2   4   0\n",
      "Pet_Raincoats  4.0   5.0   14.0  15.0  16.0  17.0\n",
      "Gender                                           \n",
      "F                 1     2     2     0     0     0\n",
      "M                 0     1     3     1     1     1\n"
     ]
    },
    {
     "data": {
      "image/png": "[encoded data removed]",
      "text/plain": [
       "<Figure size 432x288 with 1 Axes>"
      ]
     },
     "metadata": {
      "needs_background": "light"
     },
     "output_type": "display_data"
    }
   ],
   "source": [
    "\"\"\"\n",
    "\"h) Perform the following visualizations on the loaded dataset:\",\n",
    "    \"i) Tally of the Number of Male & Female who bought ‘Product_Category_3(Pet_Raincoats)’\"\n",
    "\"\"\"\n",
    "import matplotlib.pyplot as plt\n",
    "import seaborn as sns\n",
    "print(\"<-------Data Visualisation------->\")\n",
    "print(pd.crosstab(df.Gender,df.Baseball_Caps))\n",
    "print(pd.crosstab(df.Gender,df.Pet_Raincoats))\n",
    "ax = sns.countplot(data=df,x='Gender',hue='Pet_Raincoats',palette='Set2')\n",
    "ax.set(title='Male and Female who bought Pet_Raincoats',xlabel='Gender',ylabel='Count')\n",
    "plt.show()"
   ]
  },
  {
   "cell_type": "code",
   "execution_count": 12,
   "metadata": {},
   "outputs": [
    {
     "data": {
      "image/png": "[encoded data removed]",
      "text/plain": [
       "<Figure size 432x288 with 1 Axes>"
      ]
     },
     "metadata": {
      "needs_background": "light"
     },
     "output_type": "display_data"
    }
   ],
   "source": [
    "\"\"\"\n",
    "    \"ii) Total Number of Male & Female persons belonging to each city category\\n\",\n",
    "\"\"\"\n",
    "ax = sns.countplot(data=df,x='Gender',hue='City_Category',palette='Set1')\n",
    "ax.set(title='Male and Female belonging to each city',xlabel='Gender',ylabel='Count')\n",
    "plt.show()"
   ]
  },
  {
   "cell_type": "code",
   "execution_count": null,
   "metadata": {},
   "outputs": [],
   "source": []
  }
 ],
 "metadata": {
  "kernelspec": {
   "display_name": "Python 3",
   "language": "python",
   "name": "python3"
  },
  "language_info": {
   "codemirror_mode": {
    "name": "ipython",
    "version": 3
   },
   "file_extension": ".py",
   "mimetype": "text/x-python",
   "name": "python",
   "nbconvert_exporter": "python",
   "pygments_lexer": "ipython3",
   "version": "3.7.6"
  }
 },
 "nbformat": 4,
 "nbformat_minor": 4
}
