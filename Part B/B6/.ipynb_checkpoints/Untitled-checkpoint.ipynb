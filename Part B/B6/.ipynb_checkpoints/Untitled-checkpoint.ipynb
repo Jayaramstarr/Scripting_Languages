{
 "cells": [
  {
   "cell_type": "code",
   "execution_count": 10,
   "metadata": {},
   "outputs": [],
   "source": [
    "import pandas as pd\n",
    "import matplotlib.pyplot as plt\n",
    "import seaborn as sns"
   ]
  },
  {
   "cell_type": "code",
   "execution_count": 11,
   "metadata": {},
   "outputs": [
    {
     "name": "stdout",
     "output_type": "stream",
     "text": [
      "   User_ID Product_ID Gender   Age  Occupation City_Category  \\\n",
      "0  1000001  P00069042      F  0-17          10             A   \n",
      "1  1000001  P00248942      F  0-17          10             A   \n",
      "2  1000001  P00087842      F  0-17          10             A   \n",
      "3  1000001  P00085442      F  0-17          10           NaN   \n",
      "4  1000002  P00285442      M   55+          16             C   \n",
      "\n",
      "  Stay_In_Current_City_Years  Marital_Status  Baseball_Caps  Wine_Tumblers  \\\n",
      "0                          2               0              3            NaN   \n",
      "1                          2               0              1            6.0   \n",
      "2                          2               0             12            NaN   \n",
      "3                          2               0             12           14.0   \n",
      "4                         4+               0              8            NaN   \n",
      "\n",
      "   Pet_Raincoats  Purchase  \n",
      "0            NaN      8370  \n",
      "1           14.0     15200  \n",
      "2            NaN      1422  \n",
      "3            5.0      1057  \n",
      "4            NaN      7969  \n",
      "<class 'pandas.core.frame.DataFrame'>\n",
      "RangeIndex: 21 entries, 0 to 20\n",
      "Data columns (total 12 columns):\n",
      " #   Column                      Non-Null Count  Dtype  \n",
      "---  ------                      --------------  -----  \n",
      " 0   User_ID                     21 non-null     int64  \n",
      " 1   Product_ID                  21 non-null     object \n",
      " 2   Gender                      21 non-null     object \n",
      " 3   Age                         21 non-null     object \n",
      " 4   Occupation                  21 non-null     int64  \n",
      " 5   City_Category               17 non-null     object \n",
      " 6   Stay_In_Current_City_Years  21 non-null     object \n",
      " 7   Marital_Status              21 non-null     int64  \n",
      " 8   Baseball_Caps               21 non-null     int64  \n",
      " 9   Wine_Tumblers               15 non-null     float64\n",
      " 10  Pet_Raincoats               12 non-null     float64\n",
      " 11  Purchase                    21 non-null     int64  \n",
      "dtypes: float64(2), int64(5), object(5)\n",
      "memory usage: 2.1+ KB\n",
      "None\n",
      "            User_ID  Occupation  Marital_Status  Baseball_Caps  Wine_Tumblers  \\\n",
      "count  2.100000e+01   21.000000       21.000000      21.000000      15.000000   \n",
      "mean   1.000004e+06   12.047619        0.523810       4.428571       9.133333   \n",
      "std    2.226464e+00    5.444963        0.511766       3.668398       5.111146   \n",
      "min    1.000001e+06    1.000000        0.000000       1.000000       2.000000   \n",
      "25%    1.000003e+06    9.000000        0.000000       1.000000       5.000000   \n",
      "50%    1.000005e+06   10.000000        1.000000       4.000000       8.000000   \n",
      "75%    1.000006e+06   16.000000        1.000000       8.000000      14.000000   \n",
      "max    1.000008e+06   20.000000        1.000000      12.000000      16.000000   \n",
      "\n",
      "       Pet_Raincoats      Purchase  \n",
      "count      12.000000     21.000000  \n",
      "mean       11.416667   9912.809524  \n",
      "std         5.017394   5785.918774  \n",
      "min         4.000000   1057.000000  \n",
      "25%         5.000000   5378.000000  \n",
      "50%        14.000000   8584.000000  \n",
      "75%        14.250000  15227.000000  \n",
      "max        17.000000  19614.000000  \n"
     ]
    }
   ],
   "source": [
    "df = pd.read_csv('blackfri.csv')\n",
    "print(df.head(5))\n",
    "print(df.info())\n",
    "print(df.describe())"
   ]
  },
  {
   "cell_type": "code",
   "execution_count": 12,
   "metadata": {},
   "outputs": [
    {
     "name": "stdout",
     "output_type": "stream",
     "text": [
      "  Gender   Age  Occupation City_Category  Marital_Status  Baseball_Caps  \\\n",
      "0      F  0-17          10             A               0              3   \n",
      "1      F  0-17          10             A               0              1   \n",
      "2      F  0-17          10             A               0             12   \n",
      "3      F  0-17          10           NaN               0             12   \n",
      "4      M   55+          16             C               0              8   \n",
      "\n",
      "   Wine_Tumblers  Pet_Raincoats  Purchase  \n",
      "0            NaN            NaN      8370  \n",
      "1            6.0           14.0     15200  \n",
      "2            NaN            NaN      1422  \n",
      "3           14.0            5.0      1057  \n",
      "4            NaN            NaN      7969  \n"
     ]
    }
   ],
   "source": [
    "df.drop(['User_ID','Product_ID','Stay_In_Current_City_Years'],inplace=True,axis=1)\n",
    "print(df.head(5))"
   ]
  },
  {
   "cell_type": "code",
   "execution_count": 13,
   "metadata": {},
   "outputs": [
    {
     "name": "stdout",
     "output_type": "stream",
     "text": [
      "  Gender   Age  Occupation City_Category  Marital_Status  Baseball_Caps  \\\n",
      "0      F  0-17          10             A               0              3   \n",
      "1      F  0-17          10             A               0              1   \n",
      "2      F  0-17          10             A               0             12   \n",
      "3      F  0-17          10             A               0             12   \n",
      "4      M   55+          16             C               0              8   \n",
      "\n",
      "   Wine_Tumblers  Pet_Raincoats  Purchase  \n",
      "0            NaN            NaN      8370  \n",
      "1            6.0           14.0     15200  \n",
      "2            NaN            NaN      1422  \n",
      "3           14.0            5.0      1057  \n",
      "4            NaN            NaN      7969  \n"
     ]
    }
   ],
   "source": [
    "df['City_Category'] = df['City_Category'].fillna('A')\n",
    "print(df.head(5))"
   ]
  },
  {
   "cell_type": "code",
   "execution_count": 14,
   "metadata": {},
   "outputs": [
    {
     "name": "stdout",
     "output_type": "stream",
     "text": [
      "  Gender   Age  Occupation City_Category Marital_Status  Baseball_Caps  \\\n",
      "0      F  0-17          10  Metro Cities     Un-Married              3   \n",
      "1      F  0-17          10  Metro Cities     Un-Married              1   \n",
      "2      F  0-17          10  Metro Cities     Un-Married             12   \n",
      "3      F  0-17          10  Metro Cities     Un-Married             12   \n",
      "4      M   55+          16      Villages     Un-Married              8   \n",
      "\n",
      "   Wine_Tumblers  Pet_Raincoats  Purchase  \n",
      "0            NaN            NaN      8370  \n",
      "1            6.0           14.0     15200  \n",
      "2            NaN            NaN      1422  \n",
      "3           14.0            5.0      1057  \n",
      "4            NaN            NaN      7969  \n"
     ]
    }
   ],
   "source": [
    "df['City_Category'] = df['City_Category'].map({\n",
    "    'A':'Metro Cities',\n",
    "    'B':'Small Towns',\n",
    "    'C':'Villages'\n",
    "})\n",
    "df['Marital_Status'] = df['Marital_Status'].map({\n",
    "    0:'Un-Married',\n",
    "    1:'Married'\n",
    "})\n",
    "df.rename(columns={'Product_Category_1':'Baseball_Caps','Product_Category_2':'Wine_Tumblers','Product_Category_3':'Pet_Raincoats'},inplace=True)\n",
    "print(df.head(5))"
   ]
  },
  {
   "cell_type": "code",
   "execution_count": 15,
   "metadata": {},
   "outputs": [
    {
     "data": {
      "image/png": "[encoded data removed]",
      "text/plain": [
       "<Figure size 432x288 with 1 Axes>"
      ]
     },
     "metadata": {
      "needs_background": "light"
     },
     "output_type": "display_data"
    }
   ],
   "source": [
    "ax=sns.countplot(data=df,x='Baseball_Caps',hue='Gender',palette='Set1')\n",
    "ax.set(title='Number of people who bought baseball caps based on gender',xlabel='Baseball caps',ylabel='Count')\n",
    "plt.show()"
   ]
  },
  {
   "cell_type": "code",
   "execution_count": 17,
   "metadata": {},
   "outputs": [
    {
     "data": {
      "image/png": "[encoded data removed]",
      "text/plain": [
       "<Figure size 432x288 with 1 Axes>"
      ]
     },
     "metadata": {
      "needs_background": "light"
     },
     "output_type": "display_data"
    }
   ],
   "source": [
    "ax=sns.countplot(data=df,hue='Pet_Raincoats',x='Gender',palette='Set1')\n",
    "ax.set(title='Number of people who bought pet raincoats based on gender',xlabel='Pet Raincoats',ylabel='Count')\n",
    "plt.show()"
   ]
  },
  {
   "cell_type": "code",
   "execution_count": 22,
   "metadata": {},
   "outputs": [
    {
     "name": "stdout",
     "output_type": "stream",
     "text": [
      "City_Category  Metro Cities  Small Towns  Villages\n",
      "Gender                                            \n",
      "F                         6            1         1\n",
      "M                         8            3         2\n"
     ]
    },
    {
     "data": {
      "image/png": "[encoded data removed]",
      "text/plain": [
       "<Figure size 432x288 with 1 Axes>"
      ]
     },
     "metadata": {
      "needs_background": "light"
     },
     "output_type": "display_data"
    }
   ],
   "source": [
    "print(pd.crosstab(df['Gender'],df['City_Category']))\n",
    "ax=sns.countplot(data=df,x='City_Category',hue='Gender',palette='Set1')\n",
    "ax.set(title='Number of people belonging to each city category based on gender',xlabel='City Category',ylabel='Count')\n",
    "plt.show()"
   ]
  },
  {
   "cell_type": "code",
   "execution_count": null,
   "metadata": {},
   "outputs": [],
   "source": []
  }
 ],
 "metadata": {
  "kernelspec": {
   "display_name": "Python 3",
   "language": "python",
   "name": "python3"
  },
  "language_info": {
   "codemirror_mode": {
    "name": "ipython",
    "version": 3
   },
   "file_extension": ".py",
   "mimetype": "text/x-python",
   "name": "python",
   "nbconvert_exporter": "python",
   "pygments_lexer": "ipython3",
   "version": "3.7.6"
  }
 },
 "nbformat": 4,
 "nbformat_minor": 4
}
