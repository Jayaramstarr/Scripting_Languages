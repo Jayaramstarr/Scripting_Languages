{
 "cells": [
  {
   "cell_type": "code",
   "execution_count": 10,
   "metadata": {},
   "outputs": [],
   "source": [
    "\"\"\"Python for Data Science - Perform Data Science on Titanic Dataset\n",
    "a)Load the Titanic dataset into one of the data structures (NumPy or Pandas).\n",
    "b)Display header rows and description of the loaded dataset.\n",
    "c) Remove unnecessary features (E.g. drop unwanted columns) from the dataset.\n",
    "d) Manipulate data by replacing empty column values with a default value.\n",
    "e) Perform the following visualizations on the loaded dataset:\n",
    "     i)   Passenger status (Survived/Died) against Passenger Class\n",
    "     ii)  Survival rate of male vs female\n",
    "     iii) No of passengers in each age group\n",
    "\n",
    "\n",
    "#numpy - Deals multi-dimensional arrays and matrices\n",
    "#seaborn - Deals with data visualization\n",
    "#matplotlib - Plotting; pyplot-interactive plotting\n",
    "#pandas - data structures and data analysis tools\"\"\"\n",
    "#import numpy as np \n",
    "import seaborn as sns\n",
    "import matplotlib.pyplot as plt\n",
    "import pandas as pd\n",
    "titanic_df = pd.read_csv('train.csv')\n"
   ]
  },
  {
   "cell_type": "code",
   "execution_count": 11,
   "metadata": {},
   "outputs": [],
   "source": [
    "# Convert the survived column to strings for easier reading\n",
    "titanic_df ['Survived'] = titanic_df ['Survived'].map({\n",
    "    0: 'Died',\n",
    "    1: 'Survived'\n",
    "})"
   ]
  },
  {
   "cell_type": "code",
   "execution_count": 12,
   "metadata": {},
   "outputs": [
    {
     "name": "stdout",
     "output_type": "stream",
     "text": [
      "======Data Headers Before Dropping Columns=======\n",
      "   PassengerId  Survived  Pclass  \\\n",
      "0            1      Died       3   \n",
      "1            2  Survived       1   \n",
      "2            3  Survived       3   \n",
      "3            4  Survived       1   \n",
      "4            5      Died       3   \n",
      "\n",
      "                                                Name     Sex   Age  SibSp  \\\n",
      "0                            Braund, Mr. Owen Harris    male  22.0      1   \n",
      "1  Cumings, Mrs. John Bradley (Florence Briggs Th...  female  38.0      1   \n",
      "2                             Heikkinen, Miss. Laina  female  26.0      0   \n",
      "3       Futrelle, Mrs. Jacques Heath (Lily May Peel)  female  35.0      1   \n",
      "4                           Allen, Mr. William Henry    male  35.0      0   \n",
      "\n",
      "   Parch            Ticket     Fare Cabin Embarked  \n",
      "0      0         A/5 21171   7.2500   NaN        S  \n",
      "1      0          PC 17599  71.2833   C85        C  \n",
      "2      0  STON/O2. 3101282   7.9250   NaN        S  \n",
      "3      0            113803  53.1000  C123        S  \n",
      "4      0            373450   8.0500   NaN        S  \n",
      "**** \n",
      "\n",
      "DATA TRANSFORMATION *****\n",
      "\n",
      "======Data Headers After Dropping Columns - First Way=======\n",
      "   Survived  Pclass     Sex   Age  SibSp     Fare Cabin Embarked\n",
      "0      Died       3    male  22.0      1   7.2500   NaN        S\n",
      "1  Survived       1  female  38.0      1  71.2833   C85        C\n",
      "2  Survived       3  female  26.0      0   7.9250   NaN        S\n",
      "3  Survived       1  female  35.0      1  53.1000  C123        S\n",
      "4      Died       3    male  35.0      0   8.0500   NaN        S\n",
      "======Data Headers After Dropping Columns - Second Way =======\n",
      "   Survived  Pclass     Sex   Age Cabin Embarked\n",
      "0      Died       3    male  22.0   NaN        S\n",
      "1  Survived       1  female  38.0   C85        C\n",
      "2  Survived       3  female  26.0   NaN        S\n",
      "3  Survived       1  female  35.0  C123        S\n",
      "4      Died       3    male  35.0   NaN        S\n"
     ]
    }
   ],
   "source": [
    "print(\"======Data Headers Before Dropping Columns=======\")\n",
    "print(titanic_df.head(5))\n",
    "\n",
    "print(\"**** \\n\\nDATA TRANSFORMATION *****\\n\")\n",
    "\n",
    "print(\"======Data Headers After Dropping Columns - First Way=======\")\n",
    "\n",
    "\n",
    "##########################data_structure.drop([list of items to be dropped], axis= , inplace= )\n",
    "\n",
    "\n",
    "titanic_df.drop(['Parch','PassengerId','Name','Ticket'], axis=1, inplace=True)\n",
    "#axis =1 in drop method shows you are dropping a column\n",
    "    #axis is a reference to a column \n",
    "#inplace=True means you are editing original dataframe\n",
    "    #you are editing titanic_df \n",
    "print(titanic_df.head(5))\n",
    "print(\"======Data Headers After Dropping Columns - Second Way =======\")\n",
    "titanic_df = titanic_df.drop(['SibSp','Fare'], axis=1)\n",
    "print(titanic_df.head(5))"
   ]
  },
  {
   "cell_type": "code",
   "execution_count": 4,
   "metadata": {},
   "outputs": [
    {
     "name": "stdout",
     "output_type": "stream",
     "text": [
      "======Data Headers After Transforming Class Column =======\n",
      "   Survived        Pclass     Sex   Age Cabin Embarked\n",
      "0      Died   Lower Class    male  22.0   NaN        S\n",
      "1  Survived  Luxury Class  female  38.0   C85        C\n",
      "2  Survived   Lower Class  female  26.0   NaN        S\n",
      "3  Survived  Luxury Class  female  35.0  C123        S\n",
      "4      Died   Lower Class    male  35.0   NaN        S\n"
     ]
    }
   ],
   "source": [
    "# Convert the Class column to strings for easier reading\n",
    "titanic_df ['Pclass'] = titanic_df ['Pclass'].map({\n",
    "    1: 'Luxury Class',\n",
    "    2: 'Economy Class',\n",
    "    3: 'Lower Class'\n",
    "})\n",
    "print(\"======Data Headers After Transforming Class Column =======\")\n",
    "print(titanic_df.head(5))"
   ]
  },
  {
   "cell_type": "code",
   "execution_count": 5,
   "metadata": {},
   "outputs": [
    {
     "name": "stdout",
     "output_type": "stream",
     "text": [
      "======Data Headers After Filling with default value for Embarked Column =======\n",
      "   Survived        Pclass     Sex   Age Cabin Embarked\n",
      "0      Died   Lower Class    male  22.0   NaN        S\n",
      "1  Survived  Luxury Class  female  38.0   C85        C\n",
      "2  Survived   Lower Class  female  26.0   NaN        S\n",
      "3  Survived  Luxury Class  female  35.0  C123        S\n",
      "4      Died   Lower Class    male  35.0   NaN        S\n",
      "======Data Headers After Transforming Embarked Column =======\n",
      "   Survived        Pclass     Sex   Age Cabin     Embarked\n",
      "0      Died   Lower Class    male  22.0   NaN  Southampton\n",
      "1  Survived  Luxury Class  female  38.0   C85    Cherbourg\n",
      "2  Survived   Lower Class  female  26.0   NaN  Southampton\n",
      "3  Survived  Luxury Class  female  35.0  C123  Southampton\n",
      "4      Died   Lower Class    male  35.0   NaN  Southampton\n"
     ]
    }
   ],
   "source": [
    "titanic_df[\"Embarked\"] = titanic_df[\"Embarked\"].fillna(\"S\")\n",
    "print(\"======Data Headers After Filling with default value for Embarked Column =======\")\n",
    "print(titanic_df.head(5))\n",
    "\n",
    "# Convert the Embarked column to strings for easier reading\n",
    "titanic_df ['Embarked'] = titanic_df ['Embarked'].map({\n",
    "    'C':'Cherbourg',\n",
    "    'Q':'Queenstown',\n",
    "    'S':'Southampton'\n",
    "})\n",
    "print(\"======Data Headers After Transforming Embarked Column =======\")\n",
    "print(titanic_df.head(5))"
   ]
  },
  {
   "cell_type": "code",
   "execution_count": 6,
   "metadata": {},
   "outputs": [
    {
     "name": "stdout",
     "output_type": "stream",
     "text": [
      "\n",
      "\n",
      "\n",
      "**** DATA VISUALIZATIONS****\n",
      "\n",
      "\n",
      "Visualization #1 : Survival Rate Based on Passenger Sitting Class\n"
     ]
    },
    {
     "data": {
      "image/png": "[encoded data removed]",
      "text/plain": [
       "<Figure size 432x288 with 1 Axes>"
      ]
     },
     "metadata": {
      "needs_background": "light"
     },
     "output_type": "display_data"
    }
   ],
   "source": [
    "print(\"\\n\\n\\n**** DATA VISUALIZATIONS****\\n\\n\")\n",
    "print(\"Visualization #1 : Survival Rate Based on Passenger Sitting Class\")\n",
    "\n",
    "###########ax=sns.countplot(x=xaxis, hue=measures(Died,Survived) to be divided, palette=Set1,Set2 or Set3, data=data_structure)\n",
    "\n",
    "ax = sns.countplot(x = 'Pclass', hue = 'Survived', palette = 'Set1',data = titanic_df)\n",
    "\n",
    "###########ax.set(title=, xlabel=, ylabel=)\n",
    "\n",
    "ax.set(title = 'Passenger status (Survived/Died) against Passenger Class',\n",
    "       xlabel = 'Passenger Class', ylabel = 'Total')\n",
    "    #yaxis is the count\n",
    "plt.show()"
   ]
  },
  {
   "cell_type": "code",
   "execution_count": 7,
   "metadata": {},
   "outputs": [
    {
     "name": "stdout",
     "output_type": "stream",
     "text": [
      "Visualization #2 : Survival Rate Based on Gender\n",
      "Survived  Died  Survived\n",
      "Sex                     \n",
      "female      81       233\n",
      "male       468       109\n"
     ]
    },
    {
     "data": {
      "image/png": "[encoded data removed]",
      "text/plain": [
       "<Figure size 432x288 with 1 Axes>"
      ]
     },
     "metadata": {
      "needs_background": "light"
     },
     "output_type": "display_data"
    }
   ],
   "source": [
    "#crosstab - Cross tabulation of two or more factors\n",
    "print(\"Visualization #2 : Survival Rate Based on Gender\")\n",
    "print(pd.crosstab(titanic_df[\"Sex\"],titanic_df.Survived))\n",
    "ax = sns.countplot(x = 'Sex', hue = 'Survived', palette = 'Set2', data = titanic_df)\n",
    "ax.set(title = 'Total Survivors According to Sex', xlabel = 'Sex', ylabel='Total')\n",
    "plt.show()"
   ]
  },
  {
   "cell_type": "code",
   "execution_count": 8,
   "metadata": {},
   "outputs": [
    {
     "name": "stdout",
     "output_type": "stream",
     "text": [
      "Visualization #3 : Survival Rate Based on Passenger Age Group\n"
     ]
    },
    {
     "data": {
      "image/png": "[encoded data removed]",
      "text/plain": [
       "<Figure size 432x288 with 1 Axes>"
      ]
     },
     "metadata": {
      "needs_background": "light"
     },
     "output_type": "display_data"
    }
   ],
   "source": [
    "print(\"Visualization #3 : Survival Rate Based on Passenger Age Group\")\n",
    "# We look at Age column and set Intevals on the ages and the map them to their categories as\n",
    "# (Children, Teen, Adult, Old)\n",
    "interval = (0,18,35,60,120)\n",
    "categories = ['Children','Teens','Adult', 'Old']\n",
    "#cut - Segment and sort data values into bins\n",
    "\n",
    "###############pd.cut(column_to_be_cut, intervals_at_which_cut_needs_to_be_done,labels=list_of_names_assigned_to_the_intervals)\n",
    "\n",
    "titanic_df['Age_cats'] = pd.cut(titanic_df.Age, interval, labels = categories)\n",
    "\n",
    "ax = sns.countplot(x = 'Age_cats',  data = titanic_df, hue = 'Survived', palette = 'Set3')\n",
    "\n",
    "plt.show()"
   ]
  },
  {
   "cell_type": "code",
   "execution_count": 9,
   "metadata": {},
   "outputs": [
    {
     "name": "stdout",
     "output_type": "stream",
     "text": [
      "Visualization #4 : Survival Rate Based on Passenger Embarked Port\n",
      "Survived     Died  Survived\n",
      "Embarked                   \n",
      "Cherbourg      75        93\n",
      "Queenstown     47        30\n",
      "Southampton   427       219\n"
     ]
    },
    {
     "data": {
      "image/png": "[encoded data removed]",
      "text/plain": [
       "<Figure size 432x288 with 1 Axes>"
      ]
     },
     "metadata": {
      "needs_background": "light"
     },
     "output_type": "display_data"
    }
   ],
   "source": [
    "print(\"Visualization #4 : Survival Rate Based on Passenger Embarked Port\")\n",
    "print(pd.crosstab(titanic_df['Embarked'], titanic_df.Survived))\n",
    "ax = sns.countplot(x = 'Embarked', hue = 'Survived', palette = 'Set1', data = titanic_df)\n",
    "ax.set(title = 'Survival distribution according to Embarking place')\n",
    "plt.show()"
   ]
  }
 ],
 "metadata": {
  "kernelspec": {
   "display_name": "Python 3",
   "language": "python",
   "name": "python3"
  },
  "language_info": {
   "codemirror_mode": {
    "name": "ipython",
    "version": 3
   },
   "file_extension": ".py",
   "mimetype": "text/x-python",
   "name": "python",
   "nbconvert_exporter": "python",
   "pygments_lexer": "ipython3",
   "version": "3.7.6"
  }
 },
 "nbformat": 4,
 "nbformat_minor": 4
}
