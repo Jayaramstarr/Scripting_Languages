{
 "cells": [
  {
   "cell_type": "code",
   "execution_count": null,
   "metadata": {},
   "outputs": [],
   "source": [
    "def unique_list(mylist):\n",
    "    res = [] \n",
    "    for i in mylist: \n",
    "        if i not in res: \n",
    "            res.append(i) \n",
    "    return res\n",
    "\n",
    "li=[1,1,1,1,1,2,2,2,2,2,3,3,3,3,3,3,4,4,4,4,4,4]\n",
    "print('List before deleting duplicates')\n",
    "print(f'{li}')\n",
    "print('List after deleting duplicates')\n",
    "li=unique_list(li)\n",
    "print(f'{li}')\n",
    "\n",
    "eli = [ l for l in li if l%2==0]\n",
    "print('List of even elements')\n",
    "print(f'{eli}')\n",
    "\n",
    "li = li[::-1]\n",
    "print('List reversed')\n",
    "print(f'{li}')"
   ]
  },
  {
   "cell_type": "code",
   "execution_count": null,
   "metadata": {},
   "outputs": [],
   "source": [
    "from collections import Counter\n",
    "def word_count(fname):\n",
    "    with open(fname) as f:\n",
    "        return Counter(f.read().split())\n",
    "print('\\nOccurences of each word is:\\n',word_count('B1_text_file'))"
   ]
  },
  {
   "cell_type": "code",
   "execution_count": null,
   "metadata": {},
   "outputs": [],
   "source": [
    "def recursive_max(arr,n,maxi):\n",
    "    if(n<0):\n",
    "        return maxi\n",
    "    else:\n",
    "        if(arr[n-1]>maxi):\n",
    "            maxi=arr[n-1]\n",
    "    n=n-1\n",
    "    return recursive_max(arr,n,maxi)\n",
    "print(f'\\nMaximum element in the list is {recursive_max(li,len(li),0)}')"
   ]
  },
  {
   "cell_type": "code",
   "execution_count": null,
   "metadata": {},
   "outputs": [],
   "source": []
  }
 ],
 "metadata": {
  "kernelspec": {
   "display_name": "Python 3",
   "language": "python",
   "name": "python3"
  },
  "language_info": {
   "codemirror_mode": {
    "name": "ipython",
    "version": 3
   },
   "file_extension": ".py",
   "mimetype": "text/x-python",
   "name": "python",
   "nbconvert_exporter": "python",
   "pygments_lexer": "ipython3",
   "version": "3.7.6"
  }
 },
 "nbformat": 4,
 "nbformat_minor": 4
}
