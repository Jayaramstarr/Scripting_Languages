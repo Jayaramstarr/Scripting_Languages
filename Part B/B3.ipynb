{
 "cells": [
  {
   "cell_type": "code",
   "execution_count": null,
   "metadata": {},
   "outputs": [],
   "source": [
    "class Sentence_reverser:\n",
    "    vowels=['a','e','i','o','u']\n",
    "    sentence=''\n",
    "    reverse=''\n",
    "    vowelCount=0\n",
    "    def __init__(self,sentence):\n",
    "        self.sentence=sentence\n",
    "    def getVowelCount(self):\n",
    "        self.vowelCount = sum([ s in self.vowels for s in self.sentence.lower() ])\n",
    "        return self.vowelCount\n",
    "    def getReversedSentence(self):\n",
    "        self.reverse = (' ').join(self.sentence.split(' ')[::-1])\n",
    "        return self.reverse\n",
    "\n",
    "items=[]\n",
    "\n",
    "for i in range(3):\n",
    "    sentence = Sentence_reverser(input('\\nEnter a sentence\\n'))\n",
    "    items.append(sentence)\n",
    "\n",
    "sortedItems = sorted(items, key= lambda item: item.getVowelCount(), reverse=True)\n",
    "for i in range(3):\n",
    "    print(f'\\n{i+1}. Reverse:  {sortedItems[i].getReversedSentence()}, Vowel count:  {sortedItems[i].getVowelCount()}')"
   ]
  }
 ],
 "metadata": {
  "kernelspec": {
   "display_name": "Python 3",
   "language": "python",
   "name": "python3"
  },
  "language_info": {
   "codemirror_mode": {
    "name": "ipython",
    "version": 3
   },
   "file_extension": ".py",
   "mimetype": "text/x-python",
   "name": "python",
   "nbconvert_exporter": "python",
   "pygments_lexer": "ipython3",
   "version": "3.7.6"
  }
 },
 "nbformat": 4,
 "nbformat_minor": 4
}
