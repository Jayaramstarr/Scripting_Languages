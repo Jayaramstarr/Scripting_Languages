{
 "cells": [
  {
   "cell_type": "code",
   "execution_count": null,
   "metadata": {},
   "outputs": [],
   "source": [
    "import seaborn as sns\n",
    "import matplotlib.pyplot as plt\n",
    "import pandas as pd\n",
    "df = pd.read_csv('iris.csv')\n",
    "\n",
    "print(\"======Data Headers Before Dropping Columns=======\")\n",
    "print(df.head(5))\n",
    "df.describe()\n",
    "df.info()\n",
    "print(\"======Data Headers after Dropping Columns=======\")\n",
    "df.drop(['Sepal_Length'], inplace=True,axis=1)\n",
    "print(df.head(5))\n",
    "plt.figure(figsize=[12,6]) # to create a wider graph\\n\",\n",
    "ax = sns.countplot(data = df,hue = 'Class',palette='Set1',x = ' Sepal_Width')\n",
    "ax.set(title='Flowers of each specie',xlabel='Sepal Width',ylabel='No. of flowers')\n",
    "plt.tight_layout()\n",
    "plt.show()\n",
    "interval = (0,1,2,4)\n",
    "category = ['<1','1 to 2','>2']\n",
    "df['Petal_Catg'] = pd.cut(df[' Petal_Width'],interval,labels=category)\n",
    "ax = sns.countplot(data = df,x = 'Petal_Catg',hue='Class',palette='YlOrRd')\n",
    "ax.set(title='Petal Width',xlabel='Category of Petals',ylabel='No. of flowers')\n",
    "plt.show()\n",
    "\n",
    "plt.figure(figsize=[12,6])\n",
    "ax = sns.countplot(data = df[df['Class'] == 'Iris-setosa'],x = ' Sepal_Width',palette='Set1')\n",
    "ax.set(title='Iris-setosa',xlabel='Sepal Width',ylabel='No. of flowers')\n",
    "plt.show()"
   ]
  },
  {
   "cell_type": "code",
   "execution_count": null,
   "metadata": {},
   "outputs": [],
   "source": []
  }
 ],
 "metadata": {
  "kernelspec": {
   "display_name": "Python 3",
   "language": "python",
   "name": "python3"
  }
 },
 "nbformat": 4,
 "nbformat_minor": 4
}
